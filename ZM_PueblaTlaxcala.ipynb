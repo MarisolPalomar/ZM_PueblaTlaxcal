{
  "nbformat": 4,
  "nbformat_minor": 0,
  "metadata": {
    "colab": {
      "name": "ZM_PueblaTlaxcala.ipynb",
      "provenance": []
    },
    "kernelspec": {
      "name": "python3",
      "display_name": "Python 3"
    },
    "language_info": {
      "name": "python"
    }
  },
  "cells": [
    {
      "cell_type": "markdown",
      "metadata": {
        "id": "HX7ID7oMDG8V"
      },
      "source": [
        "# **ZM → LEÓN, GUANAJUATO**"
      ]
    },
    {
      "cell_type": "markdown",
      "metadata": {
        "id": "RS_2XwlCDHn4"
      },
      "source": [
        "## **LIBRERÍAS A UTILIZAR**"
      ]
    },
    {
      "cell_type": "code",
      "metadata": {
        "id": "P6LMAMumDGBD"
      },
      "source": [
        "from IPython.core.display import HTML\n",
        "HTML(\"<script>Jupyter.notebook.kernel.restart()</script>\")"
      ],
      "execution_count": null,
      "outputs": []
    },
    {
      "cell_type": "code",
      "metadata": {
        "id": "lNIz0FxBDQdi"
      },
      "source": [
        "!pip install mapclassify"
      ],
      "execution_count": null,
      "outputs": []
    },
    {
      "cell_type": "code",
      "metadata": {
        "id": "Wg_kK4w7DQgi"
      },
      "source": [
        "!pip install libpysal"
      ],
      "execution_count": null,
      "outputs": []
    },
    {
      "cell_type": "code",
      "metadata": {
        "id": "ItNHz4_QDQix"
      },
      "source": [
        "!pip install fiona\n",
        "!pip install rtree\n",
        "!pip install pygeos"
      ],
      "execution_count": null,
      "outputs": []
    },
    {
      "cell_type": "code",
      "metadata": {
        "id": "S-_pCOxHDQnG"
      },
      "source": [
        "import fiona\n",
        "import rtree\n",
        "import pygeos"
      ],
      "execution_count": null,
      "outputs": []
    },
    {
      "cell_type": "code",
      "metadata": {
        "id": "YrUTUTUTDQpl"
      },
      "source": [
        "!pip install geopandas"
      ],
      "execution_count": null,
      "outputs": []
    },
    {
      "cell_type": "code",
      "metadata": {
        "id": "JlGADNwhDQsG"
      },
      "source": [
        "!pip install matplotlib"
      ],
      "execution_count": null,
      "outputs": []
    },
    {
      "cell_type": "code",
      "metadata": {
        "id": "P_3zUErcDQum"
      },
      "source": [
        "import numpy as np\n",
        "import mapclassify\n",
        "import pandas as pd\n",
        "import libpysal as ps\n",
        "import geopandas as gpd\n",
        "import matplotlib as mpl\n",
        "import matplotlib.pyplot as plt"
      ],
      "execution_count": null,
      "outputs": []
    },
    {
      "cell_type": "code",
      "metadata": {
        "id": "aqKikXxlDQxY"
      },
      "source": [
        "!pip install contextily"
      ],
      "execution_count": null,
      "outputs": []
    },
    {
      "cell_type": "code",
      "metadata": {
        "id": "bb6zhEhdDgRP"
      },
      "source": [
        "import matplotlib.patches as mpatches\n",
        "import contextily as ctx"
      ],
      "execution_count": null,
      "outputs": []
    },
    {
      "cell_type": "markdown",
      "metadata": {
        "id": "CdKi3JnzDkhn"
      },
      "source": [
        "## **BD: AGEBs SHAPE, INEGI 2020**"
      ]
    },
    {
      "cell_type": "code",
      "metadata": {
        "id": "wxypMUYKDgTu"
      },
      "source": [
        "AGEBS= gpd.read_file('AgebsUrbanas_Leon_ZM.shp')\n",
        "print ('Forma de los datos:',AGEBS.shape)\n",
        "AGEBS.head(5)"
      ],
      "execution_count": null,
      "outputs": []
    },
    {
      "cell_type": "code",
      "metadata": {
        "id": "IFeld6vGDgWU"
      },
      "source": [
        "AGEBS.crs"
      ],
      "execution_count": null,
      "outputs": []
    },
    {
      "cell_type": "markdown",
      "metadata": {
        "id": "GPjKB5y4Dra7"
      },
      "source": [
        "## **BD: ÁREAS VERDES, INEGI 2020**"
      ]
    },
    {
      "cell_type": "code",
      "metadata": {
        "id": "g6J0kh1MDgYg"
      },
      "source": [
        "Area_Verde= gpd.read_file('SIA_Leon_ZM.shp')\n",
        "Area_Verde.head()"
      ],
      "execution_count": null,
      "outputs": []
    },
    {
      "cell_type": "code",
      "metadata": {
        "id": "ijA-gLnvDgdw"
      },
      "source": [
        "Area_Verde.crs"
      ],
      "execution_count": null,
      "outputs": []
    },
    {
      "cell_type": "markdown",
      "metadata": {
        "id": "Q4uk-BHcDxo7"
      },
      "source": [
        "## **BD: MEDICIÓN DE POBREZA, CONEVAL 2015**"
      ]
    },
    {
      "cell_type": "code",
      "metadata": {
        "id": "cihxQfz7Dt8G"
      },
      "source": [
        "Pobreza_ageb = pd.read_csv ('RangoPobreza_LeonZM_new.csv')\n",
        "Pobreza_ageb.head(5)"
      ],
      "execution_count": null,
      "outputs": []
    },
    {
      "cell_type": "markdown",
      "metadata": {
        "id": "e_fish1DD1zz"
      },
      "source": [
        "## **HOMOLOGAR BASES DE DATOS**"
      ]
    },
    {
      "cell_type": "code",
      "metadata": {
        "id": "krB9sxbUDt_L"
      },
      "source": [
        "AGEBS = AGEBS.rename({'CVEGEO':'Clave_AGEB'}, axis=1)\n",
        "Pobreza_ageb = Pobreza_ageb.rename({'cvegeo':'Clave_AGEB'}, axis=1)\n",
        "Pobreza_ageb = Pobreza_ageb.rename({'pobreza':'Rango_Pobreza'}, axis=1)\n",
        "Pobreza_ageb = Pobreza_ageb.rename({'pobreza_ext':'Rango_PExtrema'}, axis=1)"
      ],
      "execution_count": null,
      "outputs": []
    },
    {
      "cell_type": "code",
      "metadata": {
        "id": "WH1a7ngfDuBb"
      },
      "source": [
        "Pobreza_ageb=Pobreza_ageb.dropna()"
      ],
      "execution_count": null,
      "outputs": []
    },
    {
      "cell_type": "code",
      "metadata": {
        "id": "D3mYgbPBDuDd"
      },
      "source": [
        "Pobreza_ageb['Min_RP'] = Pobreza_ageb.Rango_Pobreza.str.extract('(\\d+)').astype(int)\n",
        "Pobreza_ageb['Max_RP'] = Pobreza_ageb.Rango_Pobreza.str.extract('( \\d+)').astype(int)\n",
        "Pobreza_ageb['Pobre_AV'] = ((Pobreza_ageb['Min_RP'] + Pobreza_ageb['Max_RP']) / 2)\n",
        "Pobreza_ageb2 = Pobreza_ageb[['Clave_AGEB','nom_mun', 'Rango_Pobreza', 'Pobre_AV' ]]"
      ],
      "execution_count": null,
      "outputs": []
    },
    {
      "cell_type": "code",
      "metadata": {
        "id": "tgAJ9kPTDuGL"
      },
      "source": [
        "Pobreza_ageb2.set_index('Clave_AGEB')\n",
        "AGEBS.set_index('Clave_AGEB')"
      ],
      "execution_count": null,
      "outputs": []
    },
    {
      "cell_type": "code",
      "metadata": {
        "id": "bWh3FuQkD8Wl"
      },
      "source": [
        "Pobreza_AGEB = AGEBS.merge(Pobreza_ageb2 ,left_on='Clave_AGEB', right_on='Clave_AGEB',how='left')\n",
        "Pobreza_A = Pobreza_AGEB.copy()\n",
        "print ('Forma de los datos:',Pobreza_AGEB.shape)\n",
        "Pobreza_AGEB.head()"
      ],
      "execution_count": null,
      "outputs": []
    },
    {
      "cell_type": "code",
      "metadata": {
        "id": "ymAS0gamD8de"
      },
      "source": [
        "Pobreza_A = Pobreza_A.fillna(0)\n",
        "Pobreza_A.head()"
      ],
      "execution_count": null,
      "outputs": []
    },
    {
      "cell_type": "code",
      "metadata": {
        "id": "IN_5eQURD8gf"
      },
      "source": [
        "Pobreza_AGEB = Pobreza_AGEB.dropna()"
      ],
      "execution_count": null,
      "outputs": []
    },
    {
      "cell_type": "code",
      "metadata": {
        "id": "HDOC-07mD8jf"
      },
      "source": [
        "Pobreza_A.crs"
      ],
      "execution_count": null,
      "outputs": []
    },
    {
      "cell_type": "code",
      "metadata": {
        "id": "BpyfCg-PD8mf"
      },
      "source": [
        "Pobreza_A=Pobreza_A.to_crs(epsg=3857)"
      ],
      "execution_count": null,
      "outputs": []
    },
    {
      "cell_type": "code",
      "metadata": {
        "id": "Bsd3lPQsED0_"
      },
      "source": [
        "mapclassify.NaturalBreaks(Pobreza_A['Pobre_AV'].values, k=5)"
      ],
      "execution_count": null,
      "outputs": []
    },
    {
      "cell_type": "markdown",
      "metadata": {
        "id": "ED6NoZTHEHzQ"
      },
      "source": [
        "## **MAPA DE POBREZA POR AGEBs**"
      ]
    },
    {
      "cell_type": "code",
      "metadata": {
        "id": "l-U4sBPPED3u"
      },
      "source": [
        "fig, ax = plt.subplots(1,figsize=(16, 18)) \n",
        "Base = Pobreza_A.plot(column='Pobre_AV', \n",
        "              alpha=1, \n",
        "              scheme='NaturalBreaks', \n",
        "              legend=True, \n",
        "              cmap='YlOrRd',\n",
        "              classification_kwds={'k':5},\n",
        "              figsize=(8,8),\n",
        "              ax=ax)\n",
        "plt.title(\"RANGO DE POBREZA EN LA ZM DE LEÓN (%)\", size = 25)\n",
        "ax.set_axis_off() \n",
        "ctx.add_basemap(ax, source=ctx.providers.Stamen.TonerLite, alpha=0.3) \n",
        "plt.show()"
      ],
      "execution_count": null,
      "outputs": []
    },
    {
      "cell_type": "code",
      "metadata": {
        "id": "MNaQuPJLED6e"
      },
      "source": [
        "Pobreza_AGEB=Pobreza_AGEB.to_crs(epsg=3857)"
      ],
      "execution_count": null,
      "outputs": []
    },
    {
      "cell_type": "markdown",
      "metadata": {
        "id": "G-dWWY_UEiaU"
      },
      "source": [
        "## **MAPA DE POBREZA EXTREMA POR AGEBs**"
      ]
    },
    {
      "cell_type": "code",
      "metadata": {
        "id": "VLXD4icLED9P"
      },
      "source": [
        "fig, ax = plt.subplots(1,figsize=(16, 18)) \n",
        "Base = Pobreza_AGEB.plot(column='Pobre_AV', \n",
        "              alpha=1, \n",
        "              scheme='NaturalBreaks', \n",
        "              legend=True, \n",
        "              cmap='YlOrRd',\n",
        "              classification_kwds={'k':5},\n",
        "              figsize=(8,8),\n",
        "              ax=ax)\n",
        "plt.title(\"RANGO DE POBREZA (2015) EN LA ZM DE LEÓN (%)\", size = 25)\n",
        "ax.set_axis_off() \n",
        "ctx.add_basemap(ax, source=ctx.providers.Stamen.TonerLite, alpha=0.3) \n",
        "plt.show()"
      ],
      "execution_count": null,
      "outputs": []
    },
    {
      "cell_type": "markdown",
      "metadata": {
        "id": "l_7qu7jdEm64"
      },
      "source": [
        "## **ÁREAS VERDES → OPEN STREET MAPS**"
      ]
    },
    {
      "cell_type": "code",
      "metadata": {
        "id": "eWZH0v1NEkwx"
      },
      "source": [
        "!pip install osmnx\n",
        "import osmnx as ox"
      ],
      "execution_count": null,
      "outputs": []
    },
    {
      "cell_type": "code",
      "metadata": {
        "id": "8ax36WGjEk0O"
      },
      "source": [
        "!pip install git+git://github.com/geopandas/geopandas.git"
      ],
      "execution_count": null,
      "outputs": []
    },
    {
      "cell_type": "code",
      "metadata": {
        "id": "5JzXC9ReED_x"
      },
      "source": [
        "tags = {'leisure': True}\n",
        "AreaV = ox.geometries_from_place('Guanajuato', tags)\n",
        "AreaV.head(10)"
      ],
      "execution_count": null,
      "outputs": []
    },
    {
      "cell_type": "markdown",
      "metadata": {
        "id": "6qR_NVcREu2b"
      },
      "source": [
        "## **SOLO PARQUES → OPEN STREET MAPS**"
      ]
    },
    {
      "cell_type": "code",
      "metadata": {
        "id": "6SHh_iTKEsnp"
      },
      "source": [
        "Parque= AreaV.drop(AreaV[AreaV['leisure']!='park'].index)"
      ],
      "execution_count": null,
      "outputs": []
    },
    {
      "cell_type": "code",
      "metadata": {
        "id": "dy0H7VcAEsqX"
      },
      "source": [
        "Parque.head()"
      ],
      "execution_count": null,
      "outputs": []
    },
    {
      "cell_type": "code",
      "metadata": {
        "id": "IC3JT0u2EstG"
      },
      "source": [
        "Parque.crs"
      ],
      "execution_count": null,
      "outputs": []
    },
    {
      "cell_type": "code",
      "metadata": {
        "id": "2QfM6ZiNEsv3"
      },
      "source": [
        "frames = [Parque]"
      ],
      "execution_count": null,
      "outputs": []
    },
    {
      "cell_type": "code",
      "metadata": {
        "id": "DjZ6w-4eE2rj"
      },
      "source": [
        "Parques=pd.concat(frames)"
      ],
      "execution_count": null,
      "outputs": []
    },
    {
      "cell_type": "code",
      "metadata": {
        "id": "8CdTOG8vE2uj"
      },
      "source": [
        "Parques.shape"
      ],
      "execution_count": null,
      "outputs": []
    },
    {
      "cell_type": "code",
      "metadata": {
        "id": "FHo19Mr3E2wk"
      },
      "source": [
        "Parques=Parques.to_crs(epsg=6372)\n",
        "Parques.head()\n",
        "AGEBS=AGEBS.to_crs(epsg=6372)"
      ],
      "execution_count": null,
      "outputs": []
    },
    {
      "cell_type": "markdown",
      "metadata": {
        "id": "PFQdCpg8E7Mo"
      },
      "source": [
        "## **PLOTEO PARQUES → INEGI**"
      ]
    },
    {
      "cell_type": "code",
      "metadata": {
        "id": "J2YpunBBE2y4"
      },
      "source": [
        "colors = ['#A1E2E6', '#E6BDA1', '#B3A16B', '#678072', '#524A4A']"
      ],
      "execution_count": null,
      "outputs": []
    },
    {
      "cell_type": "code",
      "metadata": {
        "id": "U0yUonTyE23x"
      },
      "source": [
        "Parque_Inegi = gpd.clip(Area_Verde, AGEBS)\n",
        "Parque_Inegi.head()"
      ],
      "execution_count": null,
      "outputs": []
    },
    {
      "cell_type": "code",
      "metadata": {
        "id": "LjY3Vh3fE_Os"
      },
      "source": [
        "Parques_Leon= AGEBS.plot(color= colors[2], alpha=.2, figsize=(16, 18))\n",
        "Parque_Inegi.plot(ax=Parques_Leon, color= '#039e7d',linewidth= 1.5)\n",
        "plt.title(\"ZM DE LEÓN \\n ÁREAS VERDES DE INEGI\", fontsize=25, color= '#03989e')\n",
        "plt.axis('off')\n",
        "plt.show()"
      ],
      "execution_count": null,
      "outputs": []
    },
    {
      "cell_type": "code",
      "metadata": {
        "id": "oGBXl24mE_Rc"
      },
      "source": [
        "Parque_Clip = gpd.clip(Parques, AGEBS)\n",
        "Parque_Clip.head()"
      ],
      "execution_count": null,
      "outputs": []
    },
    {
      "cell_type": "markdown",
      "metadata": {
        "id": "qQqUEpUEFGKh"
      },
      "source": [
        "## **PLOTEO PARQUES → OPEN STREET MAPS**"
      ]
    },
    {
      "cell_type": "code",
      "metadata": {
        "id": "Ami2oMxpE_UU"
      },
      "source": [
        "Parque_Clips = gpd.clip(Area_Verde, AGEBS)\n",
        "Parque_Clips.head()"
      ],
      "execution_count": null,
      "outputs": []
    },
    {
      "cell_type": "code",
      "metadata": {
        "id": "DaPLxnDpE_We"
      },
      "source": [
        "Parques_LEON_OSM2= AGEBS.plot(color=colors[2], alpha=0.2, figsize=(16, 18))\n",
        "Parque_Clip.plot(ax=Parques_LEON_OSM2, color='#039e7d')\n",
        "plt.title(\"ZM de LEÓN \\n Áreas Verdes de Open Street Map\", fontsize=25, color= '#03989e')\n",
        "plt.axis('off')\n",
        "plt.show()"
      ],
      "execution_count": null,
      "outputs": []
    },
    {
      "cell_type": "code",
      "metadata": {
        "id": "UJBd2Cf0E_Z8"
      },
      "source": [
        "AreaV.crs"
      ],
      "execution_count": null,
      "outputs": []
    },
    {
      "cell_type": "code",
      "metadata": {
        "id": "eC8KT_r8FfFZ"
      },
      "source": [
        "AreaV_INEGI=Parque_Clips.to_crs(epsg=3857)\n",
        "AreaV_OSM=Parque_Clip.to_crs(epsg=3857)"
      ],
      "execution_count": null,
      "outputs": []
    },
    {
      "cell_type": "markdown",
      "metadata": {
        "id": "YfgFmULNFhQA"
      },
      "source": [
        "## **PLOTEO → INEGI & POBREZA**"
      ]
    },
    {
      "cell_type": "code",
      "metadata": {
        "id": "FRpf3g14FjQv"
      },
      "source": [
        "fig, ax = plt.subplots(1,figsize=(16, 18)) \n",
        "Base = Pobreza_A.plot(column='Pobre_AV',  \n",
        "              alpha=1, \n",
        "              scheme='NaturalBreaks', \n",
        "              legend=True, \n",
        "              cmap='YlOrRd',\n",
        "              classification_kwds={'k':5},\n",
        "              figsize=(8,8),\n",
        "              ax=ax)\n",
        "AreaV_INEGI.plot(ax=Base, color='#039e7d')\n",
        "plt.title(\"Rango de Pobreza (%) en la ZM de León \\n Áreas Verdes de INEGI\", fontsize=25, color = '#03989e')\n",
        "ax.set_axis_off() \n",
        "#ctx.add_basemap(ax, source=ctx.providers.Stamen.TonerLite, alpha=0.3)\n",
        "plt.show()"
      ],
      "execution_count": null,
      "outputs": []
    },
    {
      "cell_type": "markdown",
      "metadata": {
        "id": "5iByg0mFFnZQ"
      },
      "source": [
        "## **PLOTEO → OSM & POBREZA**"
      ]
    },
    {
      "cell_type": "code",
      "metadata": {
        "id": "VCbIs9I6FjEw"
      },
      "source": [
        "fig, ax = plt.subplots(1,figsize=(16, 18)) \n",
        "Base = Pobreza_A.plot(column='Pobre_AV',  \n",
        "              alpha=1, \n",
        "              scheme='NaturalBreaks', \n",
        "              legend=True, \n",
        "              cmap='YlOrRd',\n",
        "              classification_kwds={'k':5},\n",
        "              figsize=(8,8),\n",
        "              ax=ax)\n",
        "AreaV_OSM.plot(ax=Base, color='#039e7d')\n",
        "plt.title(\"Rango de Pobreza (%) en la ZM de León \\n Áreas Verdes de Open Street Map\", fontsize=25, color = '#03989e')\n",
        "ax.set_axis_off() \n",
        "#ctx.add_basemap(ax, source=ctx.providers.Stamen.TonerLite, alpha=0.3)\n",
        "plt.show()"
      ],
      "execution_count": null,
      "outputs": []
    }
  ]
}